{
 "cells": [
  {
   "cell_type": "markdown",
   "id": "harmful-logging",
   "metadata": {},
   "source": [
    "### Problem 1 (50 points) \n",
    "\n",
    "Vapor-liquid equilibria data are correlated using two adjustable parameters $A_{12}$ and $A_{21}$ per binary\n",
    "mixture. For low pressures, the equilibrium relation can be formulated as:\n",
    "\n",
    "$$\n",
    "\\begin{aligned}\n",
    "p = & x_1\\exp\\left(A_{12}\\left(\\frac{A_{21}x_2}{A_{12}x_1+A_{21}x_2}\\right)^2\\right)p_{water}^{sat}\\\\\n",
    "& + x_2\\exp\\left(A_{21}\\left(\\frac{A_{12}x_1}{A_{12}x_1+A_{21}x_2}\\right)^2\\right)p_{1,4 dioxane}^{sat}.\n",
    "\\end{aligned}\n",
    "$$\n",
    "\n",
    "Here the saturation pressures are given by the Antoine equation\n",
    "\n",
    "$$\n",
    "\\log_{10}(p^{sat}) = a_1 - \\frac{a_2}{T + a_3},\n",
    "$$\n",
    "\n",
    "where $T = 20$($^{\\circ}{\\rm C}$) and $a_{1,2,3}$ for a water - 1,4 dioxane\n",
    "system is given below.\n",
    "\n",
    "|             | $a_1$     | $a_2$      | $a_3$     |\n",
    "|:------------|:--------|:---------|:--------|\n",
    "| Water       | 8.07131 | 1730.63  | 233.426 |\n",
    "| 1,4 dioxane | 7.43155 | 1554.679 | 240.337 |\n",
    "\n",
    "\n",
    "The following table lists the measured data. Recall that in a binary system $x_1 + x_2 = 1$.\n",
    "\n",
    "|$x_1$ | 0.0 | 0.1 | 0.2 | 0.3 | 0.4 | 0.5 | 0.6 | 0.7 | 0.8 | 0.9 | 1.0 |\n",
    "|:-----|:--------|:---------|:--------|:-----|:-----|:-----|:-----|:-----|:-----|:-----|:-----|\n",
    "|$p$| 28.1 | 34.4 | 36.7 | 36.9 | 36.8 | 36.7 | 36.5 | 35.4 | 32.9 | 27.7 | 17.5 |\n",
    "\n",
    "Estimate $A_{12}$ and $A_{21}$ using data from the above table: \n",
    "\n",
    "1. Formulate the least square problem; \n",
    "2. Since the model is nonlinear, the problem does not have an analytical solution. Therefore, solve it using the gradient descent or Newton's method implemented in HW1; \n",
    "3. Compare your optimized model with the data. Does your model fit well with the data?\n",
    "\n",
    "---\n",
    "\n",
    "### Problem 2 (50 points) \n",
    "\n",
    "Solve the following problem using Bayesian Optimization:\n",
    "$$\n",
    "    \\min_{x_1, x_2} \\quad \\left(4-2.1x_1^2 + \\frac{x_1^4}{3}\\right)x_1^2 + x_1x_2 + \\left(-4 + 4x_2^2\\right)x_2^2,\n",
    "$$\n",
    "for $x_1 \\in [-3,3]$ and $x_2 \\in [-2,2]$. A tutorial on Bayesian Optimization can be found [here](https://thuijskens.github.io/2016/12/29/bayesian-optimisation/).\n",
    "\n",
    "\n",
    "\n"
   ]
  },
  {
   "cell_type": "code",
   "execution_count": 5,
   "id": "4cc40e4c",
   "metadata": {},
   "outputs": [
    {
     "name": "stdout",
     "output_type": "stream",
     "text": [
      "Collecting torch\n",
      "  Downloading torch-1.9.1-cp38-cp38-win_amd64.whl (222.1 MB)\n",
      "Requirement already satisfied: typing-extensions in c:\\users\\madhu\\anaconda3\\lib\\site-packages (from torch) (3.7.4.3)\n",
      "Installing collected packages: torch\n",
      "Successfully installed torch-1.9.1\n"
     ]
    }
   ],
   "source": [
    "import sys\n",
    "!{sys.executable} -m pip install torch"
   ]
  },
  {
   "cell_type": "code",
   "execution_count": null,
   "id": "920a217c",
   "metadata": {},
   "outputs": [],
   "source": [
    "import torch as t\n",
    "from torch.autograd import Variable\n",
    "from math import exp\n",
    "import numpy\n",
    "\n",
    "p_sat_water = 17.4725\n",
    "p_sat_dio = 28.8240\n",
    "\n",
    "x1 = numpy.array([0.0, 0.1, 0.2, 0.3, 0.4, 0.5, 0.6, 0.7, 0.8, 0.9, 1.0])\n",
    "x2 = 1 - x1\n",
    "# for i in range(len(x1)):\n",
    "#     x2[i] = 1 - x1[i]\n",
    "\n",
    "p_i = numpy.array([28.1, 34.4, 36.7, 36.9, 36.8, 36.7, 36.5, 35.4, 32.9, 27.7, 17.5])\n",
    "\n",
    "x = Variable(t.tensor([1.0, 1]), requires_grad=True)\n",
    "\n",
    "# Define a variable, make sure requires_grad=True so that PyTorch can take gradient with respect to this variable\n",
    "\n",
    "\n",
    "# Define a loss\n",
    "# for i in xi :\n",
    "# if (1-i) in xi:\n",
    "# a=i;\n",
    "# b=1-i;\n",
    "# p = (a * exp((x[0]*((x[1] * b)/((x[0]* a) + (x[1]*b)))) ** 2 )* p_sat_water) + (b * exp((x[1]*((x[0] * b)/((x[0]* a) + (x[1]*b)))) ** 2 ) * p_sat_dio)\n",
    "a = 0.0001\n",
    "\n",
    "for j in range(10000):\n",
    "    loss1=0\n",
    "    for i in range(len(x1)):\n",
    "        loss = (((x1[i] * t.exp (x[0] * (((x[1] * x2[i]) / ((x[0] * x1[i])+ (x[1] * x2[i]))) ** 2))) * p_sat_water) +\n",
    "                 (x2[i] * t.exp (x[1] * (((x[0] * x1[i]) / ((x[0] * x1[i]) + (x[1] * x2[i]))) ** 2)) * p_sat_dio) - p_i[i]) ** 2\n",
    "        loss1= loss1+loss      \n",
    "    loss1.backward()\n",
    "    x.grad.numpy()\n",
    "    with t.no_grad():\n",
    "        x -= a * x.grad\n",
    "        x.grad.zero_()\n",
    "\n",
    "# loss = val\n",
    "\n",
    "# Take gradient\n",
    "# loss.backward()\n",
    "\n",
    "\n",
    "# x.grad.numpy()\n",
    "\n",
    "# print (loss)\n",
    "print(x.data.numpy())\n",
    "print(loss1.data.numpy())\n"
   ]
  },
  {
   "cell_type": "code",
   "execution_count": 42,
   "id": "cac098af",
   "metadata": {},
   "outputs": [
    {
     "name": "stdout",
     "output_type": "stream",
     "text": [
      "Collecting BayesianOptimization\n",
      "  Downloading BayesianOptimization-0.0.0-py3-none-any.whl (13 kB)\n",
      "Requirement already satisfied: numpy in c:\\users\\madhu\\anaconda3\\lib\\site-packages (from BayesianOptimization) (1.20.1)\n",
      "Installing collected packages: BayesianOptimization\n",
      "Successfully installed BayesianOptimization-0.0.0\n"
     ]
    }
   ],
   "source": [
    "import sys\n",
    "!{sys.executable} -m pip install BayesianOptimization"
   ]
  },
  {
   "cell_type": "code",
   "execution_count": null,
   "id": "fbdf9c80",
   "metadata": {},
   "outputs": [],
   "source": [
    "from bayes_opt import BayesianOptimization  \n"
   ]
  },
  {
   "cell_type": "code",
   "execution_count": 50,
   "id": "15870bd7",
   "metadata": {},
   "outputs": [
    {
     "name": "stdout",
     "output_type": "stream",
     "text": [
      "|   iter    |  target   |    x1     |    x2     |\n",
      "-------------------------------------------------\n",
      "| \u001b[0m 1       \u001b[0m | \u001b[0m-0.2834  \u001b[0m | \u001b[0m-0.4979  \u001b[0m | \u001b[0m 0.8813  \u001b[0m |\n",
      "| \u001b[95m 2       \u001b[0m | \u001b[95m 85.86   \u001b[0m | \u001b[95m-2.999   \u001b[0m | \u001b[95m-0.7907  \u001b[0m |\n",
      "| \u001b[0m 3       \u001b[0m | \u001b[0m 52.24   \u001b[0m | \u001b[0m-2.842   \u001b[0m | \u001b[0m-0.6774  \u001b[0m |\n",
      "| \u001b[0m 4       \u001b[0m | \u001b[0m 73.11   \u001b[0m | \u001b[0m-2.939   \u001b[0m | \u001b[0m-0.9825  \u001b[0m |\n",
      "| \u001b[0m 5       \u001b[0m | \u001b[0m-2.27    \u001b[0m | \u001b[0m-2.104   \u001b[0m | \u001b[0m 0.5152  \u001b[0m |\n",
      "=================================================\n",
      "<bound method BayesianOptimization.maximize of <bayes_opt.bayesian_optimization.BayesianOptimization object at 0x000002120743E970>>\n"
     ]
    }
   ],
   "source": [
    "def func(x1,x2):\n",
    "    a = (4 - 2.4 * (x1**2) + ((x1**4)/3))\n",
    "    b = (-4 + 4*(x2**2))\n",
    "    return ((a)*(x1**2)+(x1*x2) + (b)*(x2**2))\n",
    "\n",
    "pbounds={'x1': (-3, 3), 'x2': (-2, 2)}\n",
    "\n",
    "optimizer = BayesianOptimization(\n",
    "    f=func,\n",
    "    pbounds=pbounds,\n",
    "    random_state=1\n",
    ")\n",
    "\n",
    "optimizer.maximize(\n",
    "    init_points=2,\n",
    "    n_iter=3,\n",
    ")\n",
    "print(optimizer.maximize)"
   ]
  },
  {
   "cell_type": "code",
   "execution_count": null,
   "id": "0d9a6a39",
   "metadata": {},
   "outputs": [],
   "source": []
  }
 ],
 "metadata": {
  "kernelspec": {
   "display_name": "Python 3",
   "language": "python",
   "name": "python3"
  },
  "language_info": {
   "codemirror_mode": {
    "name": "ipython",
    "version": 3
   },
   "file_extension": ".py",
   "mimetype": "text/x-python",
   "name": "python",
   "nbconvert_exporter": "python",
   "pygments_lexer": "ipython3",
   "version": "3.8.8"
  }
 },
 "nbformat": 4,
 "nbformat_minor": 5
}
